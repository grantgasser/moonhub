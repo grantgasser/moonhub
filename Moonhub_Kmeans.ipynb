{
  "nbformat": 4,
  "nbformat_minor": 0,
  "metadata": {
    "colab": {
      "provenance": [],
      "authorship_tag": "ABX9TyPd6sYx9+LHjyc/8+Mz/omJ",
      "include_colab_link": true
    },
    "kernelspec": {
      "name": "python3",
      "display_name": "Python 3"
    },
    "language_info": {
      "name": "python"
    }
  },
  "cells": [
    {
      "cell_type": "markdown",
      "metadata": {
        "id": "view-in-github",
        "colab_type": "text"
      },
      "source": [
        "<a href=\"https://colab.research.google.com/github/grantgasser/moonhub/blob/master/Moonhub_Kmeans.ipynb\" target=\"_parent\"><img src=\"https://colab.research.google.com/assets/colab-badge.svg\" alt=\"Open In Colab\"/></a>"
      ]
    },
    {
      "cell_type": "markdown",
      "source": [
        "# Moonhub Acronym Expansion and Variations using KMeans\n",
        "\n",
        "**Approach:** \n",
        "1. Get job titles from LinkedIn dataset (`people_sample.jsonl`)\n",
        "2. Get embeddings for each title (`title_to_embedding`)\n",
        "3. Find k=1000 clusters to bucket similar job titles (`kmeans`)\n",
        "4. For a given title, find its cluster and return the similar variations (`get_variations()`)\n",
        "\n",
        "\n",
        "**Analysis:** We can \"tighten\" or \"loosen\" the relations by increasing or decreasing `k`. For example if we want to force the variations to be _very_ similar, we can increase `k` such that we only receive a few variations for a given title.\n",
        "\n",
        "On the other hand if we want to loosen our clusters and ensure we return all variations that are _somewhat_ similar, we can decrease `k`.\n",
        "\n",
        "\n",
        "**Improvement:** Increase the size of the dataset. I capped the set at ~5600 since it took roughly 30 minutes to query `openai` for the embeddings."
      ],
      "metadata": {
        "id": "8qM27OEO8P_P"
      }
    },
    {
      "cell_type": "code",
      "execution_count": 10,
      "metadata": {
        "id": "EDom3nT3tkDy"
      },
      "outputs": [],
      "source": [
        "import json\n",
        "import os\n",
        "import requests\n",
        "import io\n",
        "import time\n",
        "\n",
        "import warnings\n",
        "warnings.filterwarnings(\"ignore\")\n",
        "\n",
        "#from IPython.display import Image, clear_output\n",
        "from PIL import Image\n",
        "import urllib.request\n",
        "import matplotlib.pyplot as plt\n",
        "import pandas as pd\n",
        "import numpy as np\n",
        "import pickle"
      ]
    },
    {
      "cell_type": "code",
      "source": [
        "!pip install openai"
      ],
      "metadata": {
        "colab": {
          "base_uri": "https://localhost:8080/"
        },
        "id": "_YGRnB9c0j8G",
        "outputId": "bcc55bfd-6f6b-4d03-8814-39520b55e87d"
      },
      "execution_count": 5,
      "outputs": [
        {
          "output_type": "stream",
          "name": "stdout",
          "text": [
            "Looking in indexes: https://pypi.org/simple, https://us-python.pkg.dev/colab-wheels/public/simple/\n",
            "Collecting openai\n",
            "  Downloading openai-0.27.0-py3-none-any.whl (70 kB)\n",
            "\u001b[?25l     \u001b[90m━━━━━━━━━━━━━━━━━━━━━━━━━━━━━━━━━━━━━━━━\u001b[0m \u001b[32m0.0/70.1 KB\u001b[0m \u001b[31m?\u001b[0m eta \u001b[36m-:--:--\u001b[0m\r\u001b[2K     \u001b[90m━━━━━━━━━━━━━━━━━━━━━━━━━━━━━━━━━━━━━━━━\u001b[0m \u001b[32m70.1/70.1 KB\u001b[0m \u001b[31m7.1 MB/s\u001b[0m eta \u001b[36m0:00:00\u001b[0m\n",
            "\u001b[?25hRequirement already satisfied: requests>=2.20 in /usr/local/lib/python3.8/dist-packages (from openai) (2.25.1)\n",
            "Requirement already satisfied: tqdm in /usr/local/lib/python3.8/dist-packages (from openai) (4.64.1)\n",
            "Requirement already satisfied: aiohttp in /usr/local/lib/python3.8/dist-packages (from openai) (3.8.4)\n",
            "Requirement already satisfied: certifi>=2017.4.17 in /usr/local/lib/python3.8/dist-packages (from requests>=2.20->openai) (2022.12.7)\n",
            "Requirement already satisfied: chardet<5,>=3.0.2 in /usr/local/lib/python3.8/dist-packages (from requests>=2.20->openai) (4.0.0)\n",
            "Requirement already satisfied: idna<3,>=2.5 in /usr/local/lib/python3.8/dist-packages (from requests>=2.20->openai) (2.10)\n",
            "Requirement already satisfied: urllib3<1.27,>=1.21.1 in /usr/local/lib/python3.8/dist-packages (from requests>=2.20->openai) (1.26.14)\n",
            "Requirement already satisfied: attrs>=17.3.0 in /usr/local/lib/python3.8/dist-packages (from aiohttp->openai) (22.2.0)\n",
            "Requirement already satisfied: multidict<7.0,>=4.5 in /usr/local/lib/python3.8/dist-packages (from aiohttp->openai) (6.0.4)\n",
            "Requirement already satisfied: yarl<2.0,>=1.0 in /usr/local/lib/python3.8/dist-packages (from aiohttp->openai) (1.8.2)\n",
            "Requirement already satisfied: charset-normalizer<4.0,>=2.0 in /usr/local/lib/python3.8/dist-packages (from aiohttp->openai) (3.0.1)\n",
            "Requirement already satisfied: frozenlist>=1.1.1 in /usr/local/lib/python3.8/dist-packages (from aiohttp->openai) (1.3.3)\n",
            "Requirement already satisfied: aiosignal>=1.1.2 in /usr/local/lib/python3.8/dist-packages (from aiohttp->openai) (1.3.1)\n",
            "Requirement already satisfied: async-timeout<5.0,>=4.0.0a3 in /usr/local/lib/python3.8/dist-packages (from aiohttp->openai) (4.0.2)\n",
            "Installing collected packages: openai\n",
            "Successfully installed openai-0.27.0\n"
          ]
        }
      ]
    },
    {
      "cell_type": "code",
      "source": [
        "import openai\n",
        "from google.colab import drive\n",
        "\n",
        "drive.mount('/content/drive')\n",
        "\n",
        "API_KEY_PATH = '/content/drive/MyDrive/openai_api_key.txt'\n",
        "\n",
        "with open(API_KEY_PATH, 'r') as f:\n",
        "  openai.api_key  = f.read().strip()"
      ],
      "metadata": {
        "colab": {
          "base_uri": "https://localhost:8080/"
        },
        "id": "ji2stBcdtm3r",
        "outputId": "63abe6d9-0888-431c-9c9d-ae684bb840fd"
      },
      "execution_count": 7,
      "outputs": [
        {
          "output_type": "stream",
          "name": "stdout",
          "text": [
            "Drive already mounted at /content/drive; to attempt to forcibly remount, call drive.mount(\"/content/drive\", force_remount=True).\n"
          ]
        }
      ]
    },
    {
      "cell_type": "code",
      "source": [
        "%%time\n",
        "\n",
        "candidates = []\n",
        "load_errors = 0\n",
        "with open('/content/drive/MyDrive/people_sample.jsonl', 'r') as f:\n",
        "    for line in f:\n",
        "        try:\n",
        "            candidates.append(json.loads(line))\n",
        "        except ValueError as e:\n",
        "            load_errors += 1\n",
        "\n",
        "print(f'Read {len(candidates)} lines, could not read {load_errors} lines.')"
      ],
      "metadata": {
        "colab": {
          "base_uri": "https://localhost:8080/"
        },
        "id": "jR5vJDm3tnZF",
        "outputId": "d4bc44ca-2d91-4fc3-d215-34a60c3cb8b0"
      },
      "execution_count": 6,
      "outputs": [
        {
          "output_type": "stream",
          "name": "stdout",
          "text": [
            "Read 200000 lines, could not read 0 lines.\n",
            "CPU times: user 27 s, sys: 4.69 s, total: 31.6 s\n",
            "Wall time: 38.6 s\n"
          ]
        }
      ]
    },
    {
      "cell_type": "code",
      "source": [
        "df = pd.DataFrame(candidates)\n",
        "\n",
        "df.head(2)"
      ],
      "metadata": {
        "colab": {
          "base_uri": "https://localhost:8080/",
          "height": 344
        },
        "id": "tUrI5C8xurej",
        "outputId": "939898af-fd25-4b3e-d91a-86f01c7c0fa0"
      },
      "execution_count": 7,
      "outputs": [
        {
          "output_type": "execute_result",
          "data": {
            "text/plain": [
              "                                         profile_pic last_name  profile_id  \\\n",
              "0  https://s3.amazonaws.com/media.mixrank.com/pro...       Ran -2147480832   \n",
              "1                                               None      Duel -2147477352   \n",
              "\n",
              "                   updated_at  \\\n",
              "0  2022-02-24T07:35:42.327624   \n",
              "1  2021-04-18T02:18:24.714766   \n",
              "\n",
              "                                           education  connection_count  \\\n",
              "0  [{'activities': None, 'school': {'id': None, '...              43.0   \n",
              "1                                               None               NaN   \n",
              "\n",
              "  first_name  user_id                                title  \\\n",
              "0         Yu      NaN                  Executive Assistant   \n",
              "1      David      NaN  Senior Affiliate Manager at AFFBROS   \n",
              "\n",
              "                              headline  ...                  created_at  \\\n",
              "0    百岳特生物科技（上海） - Executive Assistant  ...  2021-05-27T07:33:06.478974   \n",
              "1  Senior Affiliate Manager at AFFBROS  ...   2019-04-24T19:07:29.90645   \n",
              "\n",
              "                                locality  \\\n",
              "0  The Hague, South Holland, Netherlands   \n",
              "1                                   None   \n",
              "\n",
              "                                          experience  \\\n",
              "0  [{'end_date': '2019-07-01', 'locality': 'Nethe...   \n",
              "1  [{'end_date': None, 'locality': None, 'linkedi...   \n",
              "\n",
              "                                             summary skills specialties  \\\n",
              "0  Enthusiastic individual with strong communicat...   None        None   \n",
              "1                                               None   None        None   \n",
              "\n",
              "  publications                                           position  \\\n",
              "0         None  {'title': 'Executive Assistant', 'linkedin_com...   \n",
              "1         None  {'title': 'Senior Affiliate Manager at AFFBROS...   \n",
              "\n",
              "  follower_count patents  \n",
              "0            NaN    None  \n",
              "1            NaN    None  \n",
              "\n",
              "[2 rows x 44 columns]"
            ],
            "text/html": [
              "\n",
              "  <div id=\"df-5ffcf1a9-32da-40ba-9deb-44bd3433131b\">\n",
              "    <div class=\"colab-df-container\">\n",
              "      <div>\n",
              "<style scoped>\n",
              "    .dataframe tbody tr th:only-of-type {\n",
              "        vertical-align: middle;\n",
              "    }\n",
              "\n",
              "    .dataframe tbody tr th {\n",
              "        vertical-align: top;\n",
              "    }\n",
              "\n",
              "    .dataframe thead th {\n",
              "        text-align: right;\n",
              "    }\n",
              "</style>\n",
              "<table border=\"1\" class=\"dataframe\">\n",
              "  <thead>\n",
              "    <tr style=\"text-align: right;\">\n",
              "      <th></th>\n",
              "      <th>profile_pic</th>\n",
              "      <th>last_name</th>\n",
              "      <th>profile_id</th>\n",
              "      <th>updated_at</th>\n",
              "      <th>education</th>\n",
              "      <th>connection_count</th>\n",
              "      <th>first_name</th>\n",
              "      <th>user_id</th>\n",
              "      <th>title</th>\n",
              "      <th>headline</th>\n",
              "      <th>...</th>\n",
              "      <th>created_at</th>\n",
              "      <th>locality</th>\n",
              "      <th>experience</th>\n",
              "      <th>summary</th>\n",
              "      <th>skills</th>\n",
              "      <th>specialties</th>\n",
              "      <th>publications</th>\n",
              "      <th>position</th>\n",
              "      <th>follower_count</th>\n",
              "      <th>patents</th>\n",
              "    </tr>\n",
              "  </thead>\n",
              "  <tbody>\n",
              "    <tr>\n",
              "      <th>0</th>\n",
              "      <td>https://s3.amazonaws.com/media.mixrank.com/pro...</td>\n",
              "      <td>Ran</td>\n",
              "      <td>-2147480832</td>\n",
              "      <td>2022-02-24T07:35:42.327624</td>\n",
              "      <td>[{'activities': None, 'school': {'id': None, '...</td>\n",
              "      <td>43.0</td>\n",
              "      <td>Yu</td>\n",
              "      <td>NaN</td>\n",
              "      <td>Executive Assistant</td>\n",
              "      <td>百岳特生物科技（上海） - Executive Assistant</td>\n",
              "      <td>...</td>\n",
              "      <td>2021-05-27T07:33:06.478974</td>\n",
              "      <td>The Hague, South Holland, Netherlands</td>\n",
              "      <td>[{'end_date': '2019-07-01', 'locality': 'Nethe...</td>\n",
              "      <td>Enthusiastic individual with strong communicat...</td>\n",
              "      <td>None</td>\n",
              "      <td>None</td>\n",
              "      <td>None</td>\n",
              "      <td>{'title': 'Executive Assistant', 'linkedin_com...</td>\n",
              "      <td>NaN</td>\n",
              "      <td>None</td>\n",
              "    </tr>\n",
              "    <tr>\n",
              "      <th>1</th>\n",
              "      <td>None</td>\n",
              "      <td>Duel</td>\n",
              "      <td>-2147477352</td>\n",
              "      <td>2021-04-18T02:18:24.714766</td>\n",
              "      <td>None</td>\n",
              "      <td>NaN</td>\n",
              "      <td>David</td>\n",
              "      <td>NaN</td>\n",
              "      <td>Senior Affiliate Manager at AFFBROS</td>\n",
              "      <td>Senior Affiliate Manager at AFFBROS</td>\n",
              "      <td>...</td>\n",
              "      <td>2019-04-24T19:07:29.90645</td>\n",
              "      <td>None</td>\n",
              "      <td>[{'end_date': None, 'locality': None, 'linkedi...</td>\n",
              "      <td>None</td>\n",
              "      <td>None</td>\n",
              "      <td>None</td>\n",
              "      <td>None</td>\n",
              "      <td>{'title': 'Senior Affiliate Manager at AFFBROS...</td>\n",
              "      <td>NaN</td>\n",
              "      <td>None</td>\n",
              "    </tr>\n",
              "  </tbody>\n",
              "</table>\n",
              "<p>2 rows × 44 columns</p>\n",
              "</div>\n",
              "      <button class=\"colab-df-convert\" onclick=\"convertToInteractive('df-5ffcf1a9-32da-40ba-9deb-44bd3433131b')\"\n",
              "              title=\"Convert this dataframe to an interactive table.\"\n",
              "              style=\"display:none;\">\n",
              "        \n",
              "  <svg xmlns=\"http://www.w3.org/2000/svg\" height=\"24px\"viewBox=\"0 0 24 24\"\n",
              "       width=\"24px\">\n",
              "    <path d=\"M0 0h24v24H0V0z\" fill=\"none\"/>\n",
              "    <path d=\"M18.56 5.44l.94 2.06.94-2.06 2.06-.94-2.06-.94-.94-2.06-.94 2.06-2.06.94zm-11 1L8.5 8.5l.94-2.06 2.06-.94-2.06-.94L8.5 2.5l-.94 2.06-2.06.94zm10 10l.94 2.06.94-2.06 2.06-.94-2.06-.94-.94-2.06-.94 2.06-2.06.94z\"/><path d=\"M17.41 7.96l-1.37-1.37c-.4-.4-.92-.59-1.43-.59-.52 0-1.04.2-1.43.59L10.3 9.45l-7.72 7.72c-.78.78-.78 2.05 0 2.83L4 21.41c.39.39.9.59 1.41.59.51 0 1.02-.2 1.41-.59l7.78-7.78 2.81-2.81c.8-.78.8-2.07 0-2.86zM5.41 20L4 18.59l7.72-7.72 1.47 1.35L5.41 20z\"/>\n",
              "  </svg>\n",
              "      </button>\n",
              "      \n",
              "  <style>\n",
              "    .colab-df-container {\n",
              "      display:flex;\n",
              "      flex-wrap:wrap;\n",
              "      gap: 12px;\n",
              "    }\n",
              "\n",
              "    .colab-df-convert {\n",
              "      background-color: #E8F0FE;\n",
              "      border: none;\n",
              "      border-radius: 50%;\n",
              "      cursor: pointer;\n",
              "      display: none;\n",
              "      fill: #1967D2;\n",
              "      height: 32px;\n",
              "      padding: 0 0 0 0;\n",
              "      width: 32px;\n",
              "    }\n",
              "\n",
              "    .colab-df-convert:hover {\n",
              "      background-color: #E2EBFA;\n",
              "      box-shadow: 0px 1px 2px rgba(60, 64, 67, 0.3), 0px 1px 3px 1px rgba(60, 64, 67, 0.15);\n",
              "      fill: #174EA6;\n",
              "    }\n",
              "\n",
              "    [theme=dark] .colab-df-convert {\n",
              "      background-color: #3B4455;\n",
              "      fill: #D2E3FC;\n",
              "    }\n",
              "\n",
              "    [theme=dark] .colab-df-convert:hover {\n",
              "      background-color: #434B5C;\n",
              "      box-shadow: 0px 1px 3px 1px rgba(0, 0, 0, 0.15);\n",
              "      filter: drop-shadow(0px 1px 2px rgba(0, 0, 0, 0.3));\n",
              "      fill: #FFFFFF;\n",
              "    }\n",
              "  </style>\n",
              "\n",
              "      <script>\n",
              "        const buttonEl =\n",
              "          document.querySelector('#df-5ffcf1a9-32da-40ba-9deb-44bd3433131b button.colab-df-convert');\n",
              "        buttonEl.style.display =\n",
              "          google.colab.kernel.accessAllowed ? 'block' : 'none';\n",
              "\n",
              "        async function convertToInteractive(key) {\n",
              "          const element = document.querySelector('#df-5ffcf1a9-32da-40ba-9deb-44bd3433131b');\n",
              "          const dataTable =\n",
              "            await google.colab.kernel.invokeFunction('convertToInteractive',\n",
              "                                                     [key], {});\n",
              "          if (!dataTable) return;\n",
              "\n",
              "          const docLinkHtml = 'Like what you see? Visit the ' +\n",
              "            '<a target=\"_blank\" href=https://colab.research.google.com/notebooks/data_table.ipynb>data table notebook</a>'\n",
              "            + ' to learn more about interactive tables.';\n",
              "          element.innerHTML = '';\n",
              "          dataTable['output_type'] = 'display_data';\n",
              "          await google.colab.output.renderOutput(dataTable, element);\n",
              "          const docLink = document.createElement('div');\n",
              "          docLink.innerHTML = docLinkHtml;\n",
              "          element.appendChild(docLink);\n",
              "        }\n",
              "      </script>\n",
              "    </div>\n",
              "  </div>\n",
              "  "
            ]
          },
          "metadata": {},
          "execution_count": 7
        }
      ]
    },
    {
      "cell_type": "code",
      "source": [
        "# We have 86,683 unique titles with \"Owner\" and \"Software Engineer\" being most common\n",
        "df['title'].value_counts()"
      ],
      "metadata": {
        "colab": {
          "base_uri": "https://localhost:8080/"
        },
        "id": "Q1JzaIgAu-2E",
        "outputId": "b9f49c1c-261a-40c9-f8a1-f315f34d3bea"
      },
      "execution_count": 9,
      "outputs": [
        {
          "output_type": "execute_result",
          "data": {
            "text/plain": [
              "Owner                                        1751\n",
              "Software Engineer                            1446\n",
              "Founder                                      1006\n",
              "Director                                      914\n",
              "Project Manager                               843\n",
              "                                             ... \n",
              "Founder & Lead Activist                         1\n",
              "Matematik öğretmeni                             1\n",
              "Projektleitung                                  1\n",
              "Director, Contents Data & Direct Supplier       1\n",
              "Global Commercial Manager                       1\n",
              "Name: title, Length: 86683, dtype: int64"
            ]
          },
          "metadata": {},
          "execution_count": 9
        }
      ]
    },
    {
      "cell_type": "markdown",
      "source": [
        "**Pre-processing**\n",
        "\n",
        "Room for improvement when it comes to pre-processing:\n",
        "- Handle different languages, maybe translate\n",
        "- Use `experience[0]` rather than `title`\n",
        "\n",
        "Fortunately, other than language differences, embeddings are robust to other characters or quirks of natural language."
      ],
      "metadata": {
        "id": "uGjcnDrK32M7"
      }
    },
    {
      "cell_type": "code",
      "source": [
        "import nltk\n",
        "nltk.download('punkt')\n",
        "nltk.download('stopwords')\n",
        "\n",
        "from nltk.tokenize import word_tokenize\n",
        "from nltk.corpus import stopwords\n",
        "import string\n",
        "import re\n",
        "\n",
        "stop_words = set(stopwords.words('english'))\n",
        "\n",
        "\"\"\"Strips, lowercases, and removes non-strings\"\"\"\n",
        "def preprocess_titles(titles):\n",
        "  new_titles = []\n",
        "\n",
        "  for title in titles:\n",
        "    if isinstance(title, str):\n",
        "      # Remove company names and location information\n",
        "      title = title.split(' at ')[0]\n",
        "      title = title.split(' - ')[0]\n",
        "      title = title.split(' | ')[0]\n",
        "\n",
        "      # Lowercase and remove numbers\n",
        "      title = title.lower()\n",
        "      title = re.sub(r'\\d+', '', title)\n",
        "      title = title.strip()\n",
        "\n",
        "      # Tokenize\n",
        "      tokens = word_tokenize(title)\n",
        "\n",
        "      # Remove punctuation\n",
        "      tokens = [token for token in tokens if token not in string.punctuation]\n",
        "\n",
        "      # Remove stop words\n",
        "      tokens = [token for token in tokens if token not in stop_words]\n",
        "\n",
        "      # Store new title\n",
        "      new_title = ''.join(tokens)\n",
        "      new_titles.append(title)\n",
        "\n",
        "  return new_titles\n",
        "\n",
        "print('Sample:\\n')\n",
        "preprocess_titles(df['title'].iloc[:10])"
      ],
      "metadata": {
        "colab": {
          "base_uri": "https://localhost:8080/"
        },
        "id": "L2QrPzfF1wq4",
        "outputId": "88424d51-20b4-43b7-ece8-c4f65d726e4e"
      },
      "execution_count": 48,
      "outputs": [
        {
          "output_type": "stream",
          "name": "stdout",
          "text": [
            "Sample:\n",
            "\n"
          ]
        },
        {
          "output_type": "stream",
          "name": "stderr",
          "text": [
            "[nltk_data] Downloading package punkt to /root/nltk_data...\n",
            "[nltk_data]   Package punkt is already up-to-date!\n",
            "[nltk_data] Downloading package stopwords to /root/nltk_data...\n",
            "[nltk_data]   Package stopwords is already up-to-date!\n"
          ]
        },
        {
          "output_type": "execute_result",
          "data": {
            "text/plain": [
              "['executive assistant',\n",
              " 'senior affiliate manager',\n",
              " 'cyber security stream delivery lead',\n",
              " 'long term engineer',\n",
              " 'sports medicine specialist',\n",
              " 'assembler',\n",
              " 'financial analyst',\n",
              " 'mortgage advisor',\n",
              " 'co-founder/partner']"
            ]
          },
          "metadata": {},
          "execution_count": 48
        }
      ]
    },
    {
      "cell_type": "code",
      "source": [
        "MAP_FILE_PATH = '/content/drive/MyDrive/title_to_embedding.pkl'"
      ],
      "metadata": {
        "id": "-90r_c2wDfMs"
      },
      "execution_count": 8,
      "outputs": []
    },
    {
      "cell_type": "code",
      "source": [
        "# {\"software engineer\": [.01, -.04, ...]}\n",
        "#title_to_embedding = {}\n",
        "\n",
        "with open(MAP_FILE_PATH, 'rb') as f:\n",
        "  title_to_embedding = pickle.load(f)\n",
        "\n",
        "print(f'Read {len(title_to_embedding)} titles/embeddings.')"
      ],
      "metadata": {
        "colab": {
          "base_uri": "https://localhost:8080/"
        },
        "id": "kT6_aHzoDNdF",
        "outputId": "211df562-a9fa-4d8d-cf53-b64ed2d57b52"
      },
      "execution_count": 66,
      "outputs": [
        {
          "output_type": "stream",
          "name": "stdout",
          "text": [
            "Read 691 titles/embeddings.\n"
          ]
        }
      ]
    },
    {
      "cell_type": "code",
      "source": [
        "from tenacity import (\n",
        "    retry,\n",
        "    stop_after_attempt,\n",
        "    wait_random_exponential,\n",
        ")  # for exponential backoff\n",
        "\n",
        "\"\"\"Gets the embedding for each title to store in a map\"\"\"\n",
        "@retry(wait=wait_random_exponential(min=1, max=60), stop=stop_after_attempt(6))\n",
        "def get_embeddings(titles):\n",
        "\n",
        "  # Do the preprocessing (set so we avoid dups)\n",
        "  processed_titles = set(preprocess_titles(titles))\n",
        "\n",
        "  for title in processed_titles:\n",
        "    # Get embedding and create mapping  \n",
        "    try:\n",
        "      embedding = openai.Embedding.create(input = [title], model=\"text-embedding-ada-002\")['data'][0]['embedding']\n",
        "      title_to_embedding[title] = embedding\n",
        "    except:\n",
        "      print(f'Error with title: {title}')\n",
        "\n",
        "  # Save to drive\n",
        "  with open(MAP_FILE_PATH, 'wb') as f:\n",
        "    pickle.dump(title_to_embedding, f)\n",
        "  "
      ],
      "metadata": {
        "id": "KEcj_UmvyFK1"
      },
      "execution_count": 68,
      "outputs": []
    },
    {
      "cell_type": "code",
      "source": [
        "%%time\n",
        "\n",
        "LAST_IDX = 1000\n",
        "NUM = 9000\n",
        "\n",
        "print(f'\\nGetting {NUM} more embeddings\\n')\n",
        "get_embeddings(df['title'].iloc[LAST_IDX:LAST_IDX+NUM])\n",
        "#title_to_embedding['executive assistant'][:5]"
      ],
      "metadata": {
        "colab": {
          "base_uri": "https://localhost:8080/"
        },
        "id": "3H3Lo89s-RjI",
        "outputId": "df039007-4c80-4c24-9090-c1208e7a50f5"
      },
      "execution_count": 69,
      "outputs": [
        {
          "output_type": "stream",
          "name": "stdout",
          "text": [
            "\n",
            "Getting 9000 more embeddings\n",
            "\n",
            "CPU times: user 34.2 s, sys: 2.19 s, total: 36.4 s\n",
            "Wall time: 22min 1s\n"
          ]
        }
      ]
    },
    {
      "cell_type": "code",
      "source": [
        "with open('/content/drive/MyDrive/title_to_embedding.pkl', 'rb') as f:\n",
        "  title_to_embedding = pickle.load(f)\n",
        "\n",
        "print(f'We now have {len(title_to_embedding)} titles/embeddings.')"
      ],
      "metadata": {
        "colab": {
          "base_uri": "https://localhost:8080/"
        },
        "id": "gZ_FhZty5swz",
        "outputId": "ff5519fa-bb46-4918-d992-bf09ac66465e"
      },
      "execution_count": 13,
      "outputs": [
        {
          "output_type": "stream",
          "name": "stdout",
          "text": [
            "We now have 5682 titles/embeddings.\n"
          ]
        }
      ]
    },
    {
      "cell_type": "code",
      "source": [
        "title_to_embedding['software engineer'][:5]"
      ],
      "metadata": {
        "colab": {
          "base_uri": "https://localhost:8080/"
        },
        "id": "c-WY3uUuJm8U",
        "outputId": "1d77f2bb-47f7-4b9f-810b-94da3d98f3b4"
      },
      "execution_count": 14,
      "outputs": [
        {
          "output_type": "execute_result",
          "data": {
            "text/plain": [
              "[0.0034764218144118786,\n",
              " -0.008387231267988682,\n",
              " 0.006127814296633005,\n",
              " -0.02333362028002739,\n",
              " -0.013775600120425224]"
            ]
          },
          "metadata": {},
          "execution_count": 14
        }
      ]
    },
    {
      "cell_type": "markdown",
      "source": [
        "## Fit Kmeans\n"
      ],
      "metadata": {
        "id": "vT7nUYcu7-UW"
      }
    },
    {
      "cell_type": "code",
      "source": [
        "train = pd.DataFrame(list(title_to_embedding.items()), columns=['title', 'embedding'])\n",
        "\n",
        "train.head()"
      ],
      "metadata": {
        "colab": {
          "base_uri": "https://localhost:8080/",
          "height": 206
        },
        "id": "Pj0a0nR6_mNV",
        "outputId": "0f2d8d00-d616-45eb-c538-a27e0ef33a6c"
      },
      "execution_count": 54,
      "outputs": [
        {
          "output_type": "execute_result",
          "data": {
            "text/plain": [
              "                                 title  \\\n",
              "0                  executive assistant   \n",
              "1             senior affiliate manager   \n",
              "2  cyber security stream delivery lead   \n",
              "3                   long term engineer   \n",
              "4           sports medicine specialist   \n",
              "\n",
              "                                           embedding  \n",
              "0  [-0.03487851843237877, -0.0056572575122118, 0....  \n",
              "1  [-0.021203506737947464, -0.04454905539751053, ...  \n",
              "2  [0.008899341337382793, -0.036653582006692886, ...  \n",
              "3  [-0.00446087634190917, -0.012415383942425251, ...  \n",
              "4  [-0.0020971628837287426, 0.010949467308819294,...  "
            ],
            "text/html": [
              "\n",
              "  <div id=\"df-80c5e570-3ef1-485e-a248-23cda4110996\">\n",
              "    <div class=\"colab-df-container\">\n",
              "      <div>\n",
              "<style scoped>\n",
              "    .dataframe tbody tr th:only-of-type {\n",
              "        vertical-align: middle;\n",
              "    }\n",
              "\n",
              "    .dataframe tbody tr th {\n",
              "        vertical-align: top;\n",
              "    }\n",
              "\n",
              "    .dataframe thead th {\n",
              "        text-align: right;\n",
              "    }\n",
              "</style>\n",
              "<table border=\"1\" class=\"dataframe\">\n",
              "  <thead>\n",
              "    <tr style=\"text-align: right;\">\n",
              "      <th></th>\n",
              "      <th>title</th>\n",
              "      <th>embedding</th>\n",
              "    </tr>\n",
              "  </thead>\n",
              "  <tbody>\n",
              "    <tr>\n",
              "      <th>0</th>\n",
              "      <td>executive assistant</td>\n",
              "      <td>[-0.03487851843237877, -0.0056572575122118, 0....</td>\n",
              "    </tr>\n",
              "    <tr>\n",
              "      <th>1</th>\n",
              "      <td>senior affiliate manager</td>\n",
              "      <td>[-0.021203506737947464, -0.04454905539751053, ...</td>\n",
              "    </tr>\n",
              "    <tr>\n",
              "      <th>2</th>\n",
              "      <td>cyber security stream delivery lead</td>\n",
              "      <td>[0.008899341337382793, -0.036653582006692886, ...</td>\n",
              "    </tr>\n",
              "    <tr>\n",
              "      <th>3</th>\n",
              "      <td>long term engineer</td>\n",
              "      <td>[-0.00446087634190917, -0.012415383942425251, ...</td>\n",
              "    </tr>\n",
              "    <tr>\n",
              "      <th>4</th>\n",
              "      <td>sports medicine specialist</td>\n",
              "      <td>[-0.0020971628837287426, 0.010949467308819294,...</td>\n",
              "    </tr>\n",
              "  </tbody>\n",
              "</table>\n",
              "</div>\n",
              "      <button class=\"colab-df-convert\" onclick=\"convertToInteractive('df-80c5e570-3ef1-485e-a248-23cda4110996')\"\n",
              "              title=\"Convert this dataframe to an interactive table.\"\n",
              "              style=\"display:none;\">\n",
              "        \n",
              "  <svg xmlns=\"http://www.w3.org/2000/svg\" height=\"24px\"viewBox=\"0 0 24 24\"\n",
              "       width=\"24px\">\n",
              "    <path d=\"M0 0h24v24H0V0z\" fill=\"none\"/>\n",
              "    <path d=\"M18.56 5.44l.94 2.06.94-2.06 2.06-.94-2.06-.94-.94-2.06-.94 2.06-2.06.94zm-11 1L8.5 8.5l.94-2.06 2.06-.94-2.06-.94L8.5 2.5l-.94 2.06-2.06.94zm10 10l.94 2.06.94-2.06 2.06-.94-2.06-.94-.94-2.06-.94 2.06-2.06.94z\"/><path d=\"M17.41 7.96l-1.37-1.37c-.4-.4-.92-.59-1.43-.59-.52 0-1.04.2-1.43.59L10.3 9.45l-7.72 7.72c-.78.78-.78 2.05 0 2.83L4 21.41c.39.39.9.59 1.41.59.51 0 1.02-.2 1.41-.59l7.78-7.78 2.81-2.81c.8-.78.8-2.07 0-2.86zM5.41 20L4 18.59l7.72-7.72 1.47 1.35L5.41 20z\"/>\n",
              "  </svg>\n",
              "      </button>\n",
              "      \n",
              "  <style>\n",
              "    .colab-df-container {\n",
              "      display:flex;\n",
              "      flex-wrap:wrap;\n",
              "      gap: 12px;\n",
              "    }\n",
              "\n",
              "    .colab-df-convert {\n",
              "      background-color: #E8F0FE;\n",
              "      border: none;\n",
              "      border-radius: 50%;\n",
              "      cursor: pointer;\n",
              "      display: none;\n",
              "      fill: #1967D2;\n",
              "      height: 32px;\n",
              "      padding: 0 0 0 0;\n",
              "      width: 32px;\n",
              "    }\n",
              "\n",
              "    .colab-df-convert:hover {\n",
              "      background-color: #E2EBFA;\n",
              "      box-shadow: 0px 1px 2px rgba(60, 64, 67, 0.3), 0px 1px 3px 1px rgba(60, 64, 67, 0.15);\n",
              "      fill: #174EA6;\n",
              "    }\n",
              "\n",
              "    [theme=dark] .colab-df-convert {\n",
              "      background-color: #3B4455;\n",
              "      fill: #D2E3FC;\n",
              "    }\n",
              "\n",
              "    [theme=dark] .colab-df-convert:hover {\n",
              "      background-color: #434B5C;\n",
              "      box-shadow: 0px 1px 3px 1px rgba(0, 0, 0, 0.15);\n",
              "      filter: drop-shadow(0px 1px 2px rgba(0, 0, 0, 0.3));\n",
              "      fill: #FFFFFF;\n",
              "    }\n",
              "  </style>\n",
              "\n",
              "      <script>\n",
              "        const buttonEl =\n",
              "          document.querySelector('#df-80c5e570-3ef1-485e-a248-23cda4110996 button.colab-df-convert');\n",
              "        buttonEl.style.display =\n",
              "          google.colab.kernel.accessAllowed ? 'block' : 'none';\n",
              "\n",
              "        async function convertToInteractive(key) {\n",
              "          const element = document.querySelector('#df-80c5e570-3ef1-485e-a248-23cda4110996');\n",
              "          const dataTable =\n",
              "            await google.colab.kernel.invokeFunction('convertToInteractive',\n",
              "                                                     [key], {});\n",
              "          if (!dataTable) return;\n",
              "\n",
              "          const docLinkHtml = 'Like what you see? Visit the ' +\n",
              "            '<a target=\"_blank\" href=https://colab.research.google.com/notebooks/data_table.ipynb>data table notebook</a>'\n",
              "            + ' to learn more about interactive tables.';\n",
              "          element.innerHTML = '';\n",
              "          dataTable['output_type'] = 'display_data';\n",
              "          await google.colab.output.renderOutput(dataTable, element);\n",
              "          const docLink = document.createElement('div');\n",
              "          docLink.innerHTML = docLinkHtml;\n",
              "          element.appendChild(docLink);\n",
              "        }\n",
              "      </script>\n",
              "    </div>\n",
              "  </div>\n",
              "  "
            ]
          },
          "metadata": {},
          "execution_count": 54
        }
      ]
    },
    {
      "cell_type": "code",
      "source": [
        "# Fit Kmeans\n",
        "from sklearn.cluster import KMeans\n",
        "\n",
        "k = 1000\n",
        "embeddings = train['embedding'].to_list()\n",
        "kmeans = KMeans(n_clusters=k, init='k-means++', n_init='auto')\n",
        "train['labels'] = kmeans.fit_predict(embeddings)\n",
        "\n",
        "train.head(5)"
      ],
      "metadata": {
        "colab": {
          "base_uri": "https://localhost:8080/",
          "height": 206
        },
        "id": "px-DO8i81OiS",
        "outputId": "60f324b3-9136-47f9-905f-4299b9243890"
      },
      "execution_count": 49,
      "outputs": [
        {
          "output_type": "execute_result",
          "data": {
            "text/plain": [
              "                                 title  \\\n",
              "0                  executive assistant   \n",
              "1             senior affiliate manager   \n",
              "2  cyber security stream delivery lead   \n",
              "3                   long term engineer   \n",
              "4           sports medicine specialist   \n",
              "\n",
              "                                           embedding  labels  \n",
              "0  [-0.03487851843237877, -0.0056572575122118, 0....     591  \n",
              "1  [-0.021203506737947464, -0.04454905539751053, ...     279  \n",
              "2  [0.008899341337382793, -0.036653582006692886, ...     511  \n",
              "3  [-0.00446087634190917, -0.012415383942425251, ...      56  \n",
              "4  [-0.0020971628837287426, 0.010949467308819294,...     497  "
            ],
            "text/html": [
              "\n",
              "  <div id=\"df-77746465-c5aa-4d8b-8ba3-a6bc38efb692\">\n",
              "    <div class=\"colab-df-container\">\n",
              "      <div>\n",
              "<style scoped>\n",
              "    .dataframe tbody tr th:only-of-type {\n",
              "        vertical-align: middle;\n",
              "    }\n",
              "\n",
              "    .dataframe tbody tr th {\n",
              "        vertical-align: top;\n",
              "    }\n",
              "\n",
              "    .dataframe thead th {\n",
              "        text-align: right;\n",
              "    }\n",
              "</style>\n",
              "<table border=\"1\" class=\"dataframe\">\n",
              "  <thead>\n",
              "    <tr style=\"text-align: right;\">\n",
              "      <th></th>\n",
              "      <th>title</th>\n",
              "      <th>embedding</th>\n",
              "      <th>labels</th>\n",
              "    </tr>\n",
              "  </thead>\n",
              "  <tbody>\n",
              "    <tr>\n",
              "      <th>0</th>\n",
              "      <td>executive assistant</td>\n",
              "      <td>[-0.03487851843237877, -0.0056572575122118, 0....</td>\n",
              "      <td>591</td>\n",
              "    </tr>\n",
              "    <tr>\n",
              "      <th>1</th>\n",
              "      <td>senior affiliate manager</td>\n",
              "      <td>[-0.021203506737947464, -0.04454905539751053, ...</td>\n",
              "      <td>279</td>\n",
              "    </tr>\n",
              "    <tr>\n",
              "      <th>2</th>\n",
              "      <td>cyber security stream delivery lead</td>\n",
              "      <td>[0.008899341337382793, -0.036653582006692886, ...</td>\n",
              "      <td>511</td>\n",
              "    </tr>\n",
              "    <tr>\n",
              "      <th>3</th>\n",
              "      <td>long term engineer</td>\n",
              "      <td>[-0.00446087634190917, -0.012415383942425251, ...</td>\n",
              "      <td>56</td>\n",
              "    </tr>\n",
              "    <tr>\n",
              "      <th>4</th>\n",
              "      <td>sports medicine specialist</td>\n",
              "      <td>[-0.0020971628837287426, 0.010949467308819294,...</td>\n",
              "      <td>497</td>\n",
              "    </tr>\n",
              "  </tbody>\n",
              "</table>\n",
              "</div>\n",
              "      <button class=\"colab-df-convert\" onclick=\"convertToInteractive('df-77746465-c5aa-4d8b-8ba3-a6bc38efb692')\"\n",
              "              title=\"Convert this dataframe to an interactive table.\"\n",
              "              style=\"display:none;\">\n",
              "        \n",
              "  <svg xmlns=\"http://www.w3.org/2000/svg\" height=\"24px\"viewBox=\"0 0 24 24\"\n",
              "       width=\"24px\">\n",
              "    <path d=\"M0 0h24v24H0V0z\" fill=\"none\"/>\n",
              "    <path d=\"M18.56 5.44l.94 2.06.94-2.06 2.06-.94-2.06-.94-.94-2.06-.94 2.06-2.06.94zm-11 1L8.5 8.5l.94-2.06 2.06-.94-2.06-.94L8.5 2.5l-.94 2.06-2.06.94zm10 10l.94 2.06.94-2.06 2.06-.94-2.06-.94-.94-2.06-.94 2.06-2.06.94z\"/><path d=\"M17.41 7.96l-1.37-1.37c-.4-.4-.92-.59-1.43-.59-.52 0-1.04.2-1.43.59L10.3 9.45l-7.72 7.72c-.78.78-.78 2.05 0 2.83L4 21.41c.39.39.9.59 1.41.59.51 0 1.02-.2 1.41-.59l7.78-7.78 2.81-2.81c.8-.78.8-2.07 0-2.86zM5.41 20L4 18.59l7.72-7.72 1.47 1.35L5.41 20z\"/>\n",
              "  </svg>\n",
              "      </button>\n",
              "      \n",
              "  <style>\n",
              "    .colab-df-container {\n",
              "      display:flex;\n",
              "      flex-wrap:wrap;\n",
              "      gap: 12px;\n",
              "    }\n",
              "\n",
              "    .colab-df-convert {\n",
              "      background-color: #E8F0FE;\n",
              "      border: none;\n",
              "      border-radius: 50%;\n",
              "      cursor: pointer;\n",
              "      display: none;\n",
              "      fill: #1967D2;\n",
              "      height: 32px;\n",
              "      padding: 0 0 0 0;\n",
              "      width: 32px;\n",
              "    }\n",
              "\n",
              "    .colab-df-convert:hover {\n",
              "      background-color: #E2EBFA;\n",
              "      box-shadow: 0px 1px 2px rgba(60, 64, 67, 0.3), 0px 1px 3px 1px rgba(60, 64, 67, 0.15);\n",
              "      fill: #174EA6;\n",
              "    }\n",
              "\n",
              "    [theme=dark] .colab-df-convert {\n",
              "      background-color: #3B4455;\n",
              "      fill: #D2E3FC;\n",
              "    }\n",
              "\n",
              "    [theme=dark] .colab-df-convert:hover {\n",
              "      background-color: #434B5C;\n",
              "      box-shadow: 0px 1px 3px 1px rgba(0, 0, 0, 0.15);\n",
              "      filter: drop-shadow(0px 1px 2px rgba(0, 0, 0, 0.3));\n",
              "      fill: #FFFFFF;\n",
              "    }\n",
              "  </style>\n",
              "\n",
              "      <script>\n",
              "        const buttonEl =\n",
              "          document.querySelector('#df-77746465-c5aa-4d8b-8ba3-a6bc38efb692 button.colab-df-convert');\n",
              "        buttonEl.style.display =\n",
              "          google.colab.kernel.accessAllowed ? 'block' : 'none';\n",
              "\n",
              "        async function convertToInteractive(key) {\n",
              "          const element = document.querySelector('#df-77746465-c5aa-4d8b-8ba3-a6bc38efb692');\n",
              "          const dataTable =\n",
              "            await google.colab.kernel.invokeFunction('convertToInteractive',\n",
              "                                                     [key], {});\n",
              "          if (!dataTable) return;\n",
              "\n",
              "          const docLinkHtml = 'Like what you see? Visit the ' +\n",
              "            '<a target=\"_blank\" href=https://colab.research.google.com/notebooks/data_table.ipynb>data table notebook</a>'\n",
              "            + ' to learn more about interactive tables.';\n",
              "          element.innerHTML = '';\n",
              "          dataTable['output_type'] = 'display_data';\n",
              "          await google.colab.output.renderOutput(dataTable, element);\n",
              "          const docLink = document.createElement('div');\n",
              "          docLink.innerHTML = docLinkHtml;\n",
              "          element.appendChild(docLink);\n",
              "        }\n",
              "      </script>\n",
              "    </div>\n",
              "  </div>\n",
              "  "
            ]
          },
          "metadata": {},
          "execution_count": 49
        }
      ]
    },
    {
      "cell_type": "code",
      "source": [
        "# Create cluster_to_titles map\n",
        "from collections import defaultdict\n",
        "\n",
        "cluster_to_titles = defaultdict(list)\n",
        "\n",
        "for idx, row in train.iterrows():\n",
        "  cluster_to_titles[row['labels']].append(row['title'])\n",
        "\n",
        "cluster_to_titles[45]"
      ],
      "metadata": {
        "colab": {
          "base_uri": "https://localhost:8080/"
        },
        "id": "E4Smy4Lg4hBN",
        "outputId": "03e43e51-e366-47f4-8453-a017ec99c18d"
      },
      "execution_count": 50,
      "outputs": [
        {
          "output_type": "execute_result",
          "data": {
            "text/plain": [
              "['vp procurement neutral grey llc',\n",
              " 'vp sales & marketing specializing in ddos protection & high bandwidth dedicated/cloud server hosting',\n",
              " 'vp analytics',\n",
              " 'vp of products',\n",
              " 'vp imaging',\n",
              " 'vp products',\n",
              " 'vp consumer marketing',\n",
              " 'vp, products',\n",
              " 'vp, product',\n",
              " 'vp, growth']"
            ]
          },
          "metadata": {},
          "execution_count": 50
        }
      ]
    },
    {
      "cell_type": "markdown",
      "source": [
        "Now predict cluster and return all variations of a given string title (i.e. \"nlp scientist\")"
      ],
      "metadata": {
        "id": "WhpLwSdVzPpD"
      }
    },
    {
      "cell_type": "code",
      "source": [
        "\"\"\"Gets the variations of a given job title by finding its cluster and returning all titles within that cluster\"\"\"\n",
        "def get_variations(given_title):\n",
        "  if title_to_embedding.get(given_title):\n",
        "    print('Get existing embedding\\n')\n",
        "    embedding = title_to_embedding[given_title]\n",
        "  else:\n",
        "    print('Get new embedding\\n')\n",
        "    embedding = openai.Embedding.create(input = [given_title], model=\"text-embedding-ada-002\")['data'][0]['embedding']\n",
        "\n",
        "  cluster = kmeans.predict([embedding])[0]\n",
        "  variations = cluster_to_titles[cluster]\n",
        "\n",
        "  print(f'Pulling titles from cluster {cluster}\\n')\n",
        "  print(f\"The variations of '{given_title}' we have are: {variations}\")"
      ],
      "metadata": {
        "id": "L8BKyxHe2TPo"
      },
      "execution_count": 51,
      "outputs": []
    },
    {
      "cell_type": "markdown",
      "source": [
        "## Results Sample"
      ],
      "metadata": {
        "id": "MihuGsWp_Lud"
      }
    },
    {
      "cell_type": "code",
      "source": [
        "get_variations('machine learning engineer')"
      ],
      "metadata": {
        "colab": {
          "base_uri": "https://localhost:8080/"
        },
        "id": "mRl1dzG27YEs",
        "outputId": "d8c2b5a0-9845-43c5-96b4-5dce57faeebf"
      },
      "execution_count": 52,
      "outputs": [
        {
          "output_type": "stream",
          "name": "stdout",
          "text": [
            "Get existing embedding\n",
            "\n",
            "Pulling titles from cluster 158\n",
            "\n",
            "The variations of 'machine learning engineer' we have are: ['software systems engineer, self-driving', 'machine learning engineer', 'artificial intelligence/machine learning engineer', 'machine learning intern', 'machine learning engineer and software developer']\n"
          ]
        }
      ]
    },
    {
      "cell_type": "code",
      "source": [
        "get_variations('taxi driver')"
      ],
      "metadata": {
        "colab": {
          "base_uri": "https://localhost:8080/"
        },
        "id": "2L45D7UB7cTL",
        "outputId": "8346076a-3863-4b6e-a279-5e53e84f2e3e"
      },
      "execution_count": 53,
      "outputs": [
        {
          "output_type": "stream",
          "name": "stdout",
          "text": [
            "Get new embedding\n",
            "\n",
            "Pulling titles from cluster 837\n",
            "\n",
            "The variations of 'taxi driver' we have are: ['lyft driver', 'door dasher', 'private driver']\n"
          ]
        }
      ]
    },
    {
      "cell_type": "markdown",
      "source": [
        "## Summary\n",
        "\n",
        "Seems to work quite well! "
      ],
      "metadata": {
        "id": "zGYe_3Pv6onU"
      }
    },
    {
      "cell_type": "code",
      "source": [],
      "metadata": {
        "id": "ONc4yWU2-iBf"
      },
      "execution_count": null,
      "outputs": []
    }
  ]
}