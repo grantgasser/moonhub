{
  "nbformat": 4,
  "nbformat_minor": 0,
  "metadata": {
    "colab": {
      "provenance": [],
      "authorship_tag": "ABX9TyPl3TSgeowOfOZhTehvVlRd",
      "include_colab_link": true
    },
    "kernelspec": {
      "name": "python3",
      "display_name": "Python 3"
    },
    "language_info": {
      "name": "python"
    }
  },
  "cells": [
    {
      "cell_type": "markdown",
      "metadata": {
        "id": "view-in-github",
        "colab_type": "text"
      },
      "source": [
        "<a href=\"https://colab.research.google.com/github/grantgasser/moonhub/blob/master/Moonhub_Acronym_Expansion.ipynb\" target=\"_parent\"><img src=\"https://colab.research.google.com/assets/colab-badge.svg\" alt=\"Open In Colab\"/></a>"
      ]
    },
    {
      "cell_type": "code",
      "source": [
        "import numpy as np"
      ],
      "metadata": {
        "id": "no08rPVBkeED"
      },
      "execution_count": 7,
      "outputs": []
    },
    {
      "cell_type": "code",
      "execution_count": 1,
      "metadata": {
        "colab": {
          "base_uri": "https://localhost:8080/"
        },
        "id": "IRlaygo4hngz",
        "outputId": "6f5231c2-e444-4064-fd6e-5f40f6b34213"
      },
      "outputs": [
        {
          "output_type": "stream",
          "name": "stdout",
          "text": [
            "Looking in indexes: https://pypi.org/simple, https://us-python.pkg.dev/colab-wheels/public/simple/\n",
            "Collecting openai\n",
            "  Downloading openai-0.26.5.tar.gz (55 kB)\n",
            "\u001b[2K     \u001b[90m━━━━━━━━━━━━━━━━━━━━━━━━━━━━━━━━━━━━━━━━\u001b[0m \u001b[32m55.5/55.5 KB\u001b[0m \u001b[31m2.3 MB/s\u001b[0m eta \u001b[36m0:00:00\u001b[0m\n",
            "\u001b[?25h  Installing build dependencies ... \u001b[?25l\u001b[?25hdone\n",
            "  Getting requirements to build wheel ... \u001b[?25l\u001b[?25hdone\n",
            "  Installing backend dependencies ... \u001b[?25l\u001b[?25hdone\n",
            "  Preparing metadata (pyproject.toml) ... \u001b[?25l\u001b[?25hdone\n",
            "Requirement already satisfied: tqdm in /usr/local/lib/python3.8/dist-packages (from openai) (4.64.1)\n",
            "Requirement already satisfied: requests>=2.20 in /usr/local/lib/python3.8/dist-packages (from openai) (2.25.1)\n",
            "Requirement already satisfied: aiohttp in /usr/local/lib/python3.8/dist-packages (from openai) (3.8.4)\n",
            "Requirement already satisfied: chardet<5,>=3.0.2 in /usr/local/lib/python3.8/dist-packages (from requests>=2.20->openai) (4.0.0)\n",
            "Requirement already satisfied: idna<3,>=2.5 in /usr/local/lib/python3.8/dist-packages (from requests>=2.20->openai) (2.10)\n",
            "Requirement already satisfied: certifi>=2017.4.17 in /usr/local/lib/python3.8/dist-packages (from requests>=2.20->openai) (2022.12.7)\n",
            "Requirement already satisfied: urllib3<1.27,>=1.21.1 in /usr/local/lib/python3.8/dist-packages (from requests>=2.20->openai) (1.24.3)\n",
            "Requirement already satisfied: yarl<2.0,>=1.0 in /usr/local/lib/python3.8/dist-packages (from aiohttp->openai) (1.8.2)\n",
            "Requirement already satisfied: multidict<7.0,>=4.5 in /usr/local/lib/python3.8/dist-packages (from aiohttp->openai) (6.0.4)\n",
            "Requirement already satisfied: async-timeout<5.0,>=4.0.0a3 in /usr/local/lib/python3.8/dist-packages (from aiohttp->openai) (4.0.2)\n",
            "Requirement already satisfied: charset-normalizer<4.0,>=2.0 in /usr/local/lib/python3.8/dist-packages (from aiohttp->openai) (3.0.1)\n",
            "Requirement already satisfied: attrs>=17.3.0 in /usr/local/lib/python3.8/dist-packages (from aiohttp->openai) (22.2.0)\n",
            "Requirement already satisfied: frozenlist>=1.1.1 in /usr/local/lib/python3.8/dist-packages (from aiohttp->openai) (1.3.3)\n",
            "Requirement already satisfied: aiosignal>=1.1.2 in /usr/local/lib/python3.8/dist-packages (from aiohttp->openai) (1.3.1)\n",
            "Building wheels for collected packages: openai\n",
            "  Building wheel for openai (pyproject.toml) ... \u001b[?25l\u001b[?25hdone\n",
            "  Created wheel for openai: filename=openai-0.26.5-py3-none-any.whl size=67620 sha256=b232b3c991743885d92da7eb745d5d1363904cc9a19de6f08a8d37b4ab64be1e\n",
            "  Stored in directory: /root/.cache/pip/wheels/a7/47/99/8273a59fbd59c303e8ff175416d5c1c9c03a2e83ebf7525a99\n",
            "Successfully built openai\n",
            "Installing collected packages: openai\n",
            "Successfully installed openai-0.26.5\n"
          ]
        }
      ],
      "source": [
        "!pip install openai"
      ]
    },
    {
      "cell_type": "code",
      "source": [
        "import openai\n",
        "from google.colab import drive\n",
        "\n",
        "drive.mount('/content/drive')\n",
        "\n",
        "API_KEY_PATH = '/content/drive/MyDrive/openai_api_key.txt'\n",
        "\n",
        "with open(API_KEY_PATH, 'r') as f:\n",
        "  openai.api_key  = f.read().strip()"
      ],
      "metadata": {
        "colab": {
          "base_uri": "https://localhost:8080/"
        },
        "id": "KCj-EgFah0yt",
        "outputId": "b8992f5a-650f-4866-d74d-b9620caae1f0"
      },
      "execution_count": 3,
      "outputs": [
        {
          "output_type": "stream",
          "name": "stdout",
          "text": [
            "Mounted at /content/drive\n"
          ]
        }
      ]
    },
    {
      "cell_type": "code",
      "source": [
        "nlp_scientist_embedding = openai.Embedding.create(input = [\"nlp scientist\"], model=\"text-embedding-ada-002\")['data'][0]['embedding']\n",
        "\n",
        "nlp_researcher_embedding = openai.Embedding.create(input = [\"nlp researcher\"], model=\"text-embedding-ada-002\")['data'][0]['embedding']"
      ],
      "metadata": {
        "id": "XjwLQhljiYxf"
      },
      "execution_count": 5,
      "outputs": []
    },
    {
      "cell_type": "code",
      "source": [
        "from sklearn.metrics.pairwise import cosine_similarity\n",
        "\n",
        "# After trying a few examples, it appears these embeddings separate common female names from common male names slightly\n",
        "print(cosine_similarity(np.array([nlp_scientist_embedding, nlp_researcher_embedding])))"
      ],
      "metadata": {
        "colab": {
          "base_uri": "https://localhost:8080/"
        },
        "id": "7NB2t8KKkS7i",
        "outputId": "ae747d0e-4d2c-4b6a-f147-c2666234a16d"
      },
      "execution_count": 8,
      "outputs": [
        {
          "output_type": "stream",
          "name": "stdout",
          "text": [
            "[[1.         0.97279782]\n",
            " [0.97279782 1.        ]]\n"
          ]
        }
      ]
    },
    {
      "cell_type": "code",
      "source": [
        "cosine_similarity(np.array([nlp_scientist_embedding, nlp_researcher_embedding]))[1][0]"
      ],
      "metadata": {
        "colab": {
          "base_uri": "https://localhost:8080/"
        },
        "id": "BZ6RUIc7otzx",
        "outputId": "4c6261fb-3b1d-4dfd-8dc7-f9d95a470da2"
      },
      "execution_count": 17,
      "outputs": [
        {
          "output_type": "execute_result",
          "data": {
            "text/plain": [
              "0.9727978167954503"
            ]
          },
          "metadata": {},
          "execution_count": 17
        }
      ]
    },
    {
      "cell_type": "markdown",
      "source": [
        "- Don't forget about adjectives: \"senior\", \"sr.\", \"staff\", \"principal\", \"lead\", etc.\n",
        "\n",
        "- Misspellings\n",
        "\n",
        "- Or the classic \"software engineer **(ml)**\", \"machine learning engineer **(nlp)**\""
      ],
      "metadata": {
        "id": "zpIBEu51l3Uh"
      }
    },
    {
      "cell_type": "markdown",
      "source": [
        "Store the most common title \"software engineer\" and its variations like so:\n",
        "\n",
        "```\n",
        "job_title_mapping = {\n",
        "    most_common_title_string: [most_common_title_embedding, [variation1, variation2, ...]]\n",
        "}\n",
        "```\n",
        "\n",
        "**Potential Improvement:** Create a `JobTitleMapping` class and restrict typing"
      ],
      "metadata": {
        "id": "cQeKfbV4o1L_"
      }
    },
    {
      "cell_type": "code",
      "source": [
        "job_title_mapping = {\n",
        "    'nlp scientist': [None, ['nlp researcher','natural language processing scientist', 'natural language processing researcher']],\n",
        "    'nlp engineer': [None, ['natural language processing engineer', 'machine learning engineer (nlp)', 'ml engineer (nlp)', 'mle (nlp)']],\n",
        "    'machine learning engineer': [None, ['mle', 'ml engineer', 'ml eng', 'machine learning eng']],\n",
        "    'software engineer': [None, ['swe', 'software eng', 'software developer', 'software dev']]\n",
        "}\n",
        "\n",
        "# Get embeddings once, ahead of time\n",
        "for most_common_title, embedding_and_variations in job_title_mapping.items():\n",
        "  most_common_title_embedding = openai.Embedding.create(input = [most_common_title], model=\"text-embedding-ada-002\")['data'][0]['embedding']\n",
        "  embedding_and_variations[0] = most_common_title_embedding"
      ],
      "metadata": {
        "id": "aav_WbLvkaHv"
      },
      "execution_count": 47,
      "outputs": []
    },
    {
      "cell_type": "code",
      "source": [
        "from types import MethodDescriptorType\n",
        "from tenacity import (\n",
        "    retry,\n",
        "    stop_after_attempt,\n",
        "    wait_random_exponential,\n",
        ")  # for exponential backoff\n",
        "\n",
        "\n",
        "\"\"\"\n",
        "Gets variations of a given title with various acronyms\n",
        " \n",
        " (i.e. \"nlp_scientist\" => [\"nlp researcher\", \"natural language processing scientist\"...]\n",
        "\"\"\"\n",
        "@retry(wait=wait_random_exponential(min=1, max=60), stop=stop_after_attempt(6))\n",
        "def get_title_variations(title):\n",
        "  # Get embedding of given title\n",
        "  title = title.strip().lower()\n",
        "  title_embedding = openai.Embedding.create(input = [title], model=\"text-embedding-ada-002\")['data'][0]['embedding']\n",
        "\n",
        "  # Check similarity to given \"most common\" job titles\n",
        "  highest_similarity_val = float('-inf')\n",
        "  highest_similarity_title = None\n",
        "  for most_common_title, (most_common_title_embedding, variations) in job_title_mapping.items():\n",
        "    current_similarity = cosine_similarity(np.array([title_embedding, most_common_title_embedding]))[1][0]\n",
        "\n",
        "    if current_similarity > highest_similarity_val:\n",
        "      #print(f'New highest similarity between {title} and {most_common_title}: {current_similarity} vs. {highest_similarity_val}')\n",
        "      highest_similarity_title = most_common_title\n",
        "      highest_similarity_val = current_similarity\n",
        "\n",
        "\n",
        "  # Now we have the variations of `title`\n",
        "  variations = job_title_mapping[highest_similarity_title][1]\n",
        "\n",
        "  # Add to our knowledge base: if this is a new variation, let's add it to our list\n",
        "  if title not in variations:\n",
        "    job_title_mapping[highest_similarity_title][1].append(title)\n",
        "\n",
        "  # Leave out `title` if its in variation\n",
        "  # Not concerned about time complexity given there are only so many ways to represent a single job\n",
        "  return set([highest_similarity_title] + variations) - set([title])"
      ],
      "metadata": {
        "id": "hCK31hJSkbtn"
      },
      "execution_count": 48,
      "outputs": []
    },
    {
      "cell_type": "markdown",
      "source": [
        "### Results\n",
        "\n",
        "We can see that it returns the relevant variations _and_ will add an unseen variation (e.g. 'Senior software engineer' to the set of titles. "
      ],
      "metadata": {
        "id": "eikZi-oavSA5"
      }
    },
    {
      "cell_type": "code",
      "source": [
        "get_title_variations('mle')"
      ],
      "metadata": {
        "colab": {
          "base_uri": "https://localhost:8080/"
        },
        "id": "tvsFWqfCnLDJ",
        "outputId": "32b567fb-8e4f-49d5-9f7f-e27b0b68649f"
      },
      "execution_count": 49,
      "outputs": [
        {
          "output_type": "execute_result",
          "data": {
            "text/plain": [
              "{'machine learning eng', 'machine learning engineer', 'ml eng', 'ml engineer'}"
            ]
          },
          "metadata": {},
          "execution_count": 49
        }
      ]
    },
    {
      "cell_type": "code",
      "source": [
        "get_title_variations('Senior software engineer')"
      ],
      "metadata": {
        "colab": {
          "base_uri": "https://localhost:8080/"
        },
        "id": "vZu5CL-tnNq2",
        "outputId": "71fb649c-ef8c-48fa-a917-f39f2d7c8f31"
      },
      "execution_count": 50,
      "outputs": [
        {
          "output_type": "execute_result",
          "data": {
            "text/plain": [
              "{'software dev',\n",
              " 'software developer',\n",
              " 'software eng',\n",
              " 'software engineer',\n",
              " 'swe'}"
            ]
          },
          "metadata": {},
          "execution_count": 50
        }
      ]
    },
    {
      "cell_type": "code",
      "source": [
        "get_title_variations('sr. software engineer')"
      ],
      "metadata": {
        "colab": {
          "base_uri": "https://localhost:8080/"
        },
        "id": "y1R-MQJIvImz",
        "outputId": "4ec6bd83-436a-4aa6-883b-9aeef3514f4f"
      },
      "execution_count": 51,
      "outputs": [
        {
          "output_type": "execute_result",
          "data": {
            "text/plain": [
              "{'senior software engineer',\n",
              " 'software dev',\n",
              " 'software developer',\n",
              " 'software eng',\n",
              " 'software engineer',\n",
              " 'swe'}"
            ]
          },
          "metadata": {},
          "execution_count": 51
        }
      ]
    }
  ]
}