{
  "nbformat": 4,
  "nbformat_minor": 0,
  "metadata": {
    "colab": {
      "provenance": [],
      "authorship_tag": "ABX9TyN4CSyk+qMOgVny4edxHU/d",
      "include_colab_link": true
    },
    "kernelspec": {
      "name": "python3",
      "display_name": "Python 3"
    },
    "language_info": {
      "name": "python"
    }
  },
  "cells": [
    {
      "cell_type": "markdown",
      "metadata": {
        "id": "view-in-github",
        "colab_type": "text"
      },
      "source": [
        "<a href=\"https://colab.research.google.com/github/grantgasser/moonhub/blob/master/Moonhub_Acronym_Expansion.ipynb\" target=\"_parent\"><img src=\"https://colab.research.google.com/assets/colab-badge.svg\" alt=\"Open In Colab\"/></a>"
      ]
    },
    {
      "cell_type": "code",
      "source": [
        "import numpy as np"
      ],
      "metadata": {
        "id": "no08rPVBkeED"
      },
      "execution_count": 52,
      "outputs": []
    },
    {
      "cell_type": "code",
      "execution_count": 53,
      "metadata": {
        "colab": {
          "base_uri": "https://localhost:8080/"
        },
        "id": "IRlaygo4hngz",
        "outputId": "6dcc72d1-4cf2-44a2-ecc5-0cd84a969326"
      },
      "outputs": [
        {
          "output_type": "stream",
          "name": "stdout",
          "text": [
            "Looking in indexes: https://pypi.org/simple, https://us-python.pkg.dev/colab-wheels/public/simple/\n",
            "Requirement already satisfied: openai in /usr/local/lib/python3.8/dist-packages (0.26.5)\n",
            "Requirement already satisfied: tqdm in /usr/local/lib/python3.8/dist-packages (from openai) (4.64.1)\n",
            "Requirement already satisfied: requests>=2.20 in /usr/local/lib/python3.8/dist-packages (from openai) (2.25.1)\n",
            "Requirement already satisfied: aiohttp in /usr/local/lib/python3.8/dist-packages (from openai) (3.8.4)\n",
            "Requirement already satisfied: urllib3<1.27,>=1.21.1 in /usr/local/lib/python3.8/dist-packages (from requests>=2.20->openai) (1.24.3)\n",
            "Requirement already satisfied: chardet<5,>=3.0.2 in /usr/local/lib/python3.8/dist-packages (from requests>=2.20->openai) (4.0.0)\n",
            "Requirement already satisfied: idna<3,>=2.5 in /usr/local/lib/python3.8/dist-packages (from requests>=2.20->openai) (2.10)\n",
            "Requirement already satisfied: certifi>=2017.4.17 in /usr/local/lib/python3.8/dist-packages (from requests>=2.20->openai) (2022.12.7)\n",
            "Requirement already satisfied: attrs>=17.3.0 in /usr/local/lib/python3.8/dist-packages (from aiohttp->openai) (22.2.0)\n",
            "Requirement already satisfied: frozenlist>=1.1.1 in /usr/local/lib/python3.8/dist-packages (from aiohttp->openai) (1.3.3)\n",
            "Requirement already satisfied: multidict<7.0,>=4.5 in /usr/local/lib/python3.8/dist-packages (from aiohttp->openai) (6.0.4)\n",
            "Requirement already satisfied: charset-normalizer<4.0,>=2.0 in /usr/local/lib/python3.8/dist-packages (from aiohttp->openai) (3.0.1)\n",
            "Requirement already satisfied: yarl<2.0,>=1.0 in /usr/local/lib/python3.8/dist-packages (from aiohttp->openai) (1.8.2)\n",
            "Requirement already satisfied: aiosignal>=1.1.2 in /usr/local/lib/python3.8/dist-packages (from aiohttp->openai) (1.3.1)\n",
            "Requirement already satisfied: async-timeout<5.0,>=4.0.0a3 in /usr/local/lib/python3.8/dist-packages (from aiohttp->openai) (4.0.2)\n"
          ]
        }
      ],
      "source": [
        "!pip install openai"
      ]
    },
    {
      "cell_type": "code",
      "source": [
        "import openai\n",
        "from google.colab import drive\n",
        "\n",
        "drive.mount('/content/drive')\n",
        "\n",
        "API_KEY_PATH = '/content/drive/MyDrive/openai_api_key.txt'\n",
        "\n",
        "with open(API_KEY_PATH, 'r') as f:\n",
        "  openai.api_key  = f.read().strip()"
      ],
      "metadata": {
        "colab": {
          "base_uri": "https://localhost:8080/"
        },
        "id": "KCj-EgFah0yt",
        "outputId": "a8322c27-0773-45fa-baa7-5e516cfe187a"
      },
      "execution_count": 54,
      "outputs": [
        {
          "output_type": "stream",
          "name": "stdout",
          "text": [
            "Drive already mounted at /content/drive; to attempt to forcibly remount, call drive.mount(\"/content/drive\", force_remount=True).\n"
          ]
        }
      ]
    },
    {
      "cell_type": "code",
      "source": [
        "from sklearn.metrics.pairwise import cosine_similarity\n",
        "\n",
        "# Test cosine similarity\n",
        "nlp_scientist_embedding = openai.Embedding.create(input = [\"nlp scientist\"], model=\"text-embedding-ada-002\")['data'][0]['embedding']\n",
        "nlp_researcher_embedding = openai.Embedding.create(input = [\"nlp researcher\"], model=\"text-embedding-ada-002\")['data'][0]['embedding']\n",
        "\n",
        "cosine_similarity(np.array([nlp_scientist_embedding, nlp_researcher_embedding]))[1][0]"
      ],
      "metadata": {
        "colab": {
          "base_uri": "https://localhost:8080/"
        },
        "id": "BZ6RUIc7otzx",
        "outputId": "65446904-6d5e-404a-9950-f9eb6f45ee25"
      },
      "execution_count": 57,
      "outputs": [
        {
          "output_type": "execute_result",
          "data": {
            "text/plain": [
              "0.9728179683871935"
            ]
          },
          "metadata": {},
          "execution_count": 57
        }
      ]
    },
    {
      "cell_type": "markdown",
      "source": [
        "- Don't forget about adjectives: \"senior\", \"sr.\", \"staff\", \"principal\", \"lead\", etc.\n",
        "\n",
        "- Misspellings\n",
        "\n",
        "- Or the classic \"software engineer **(ml)**\", \"machine learning engineer **(nlp)**\""
      ],
      "metadata": {
        "id": "zpIBEu51l3Uh"
      }
    },
    {
      "cell_type": "markdown",
      "source": [
        "Store the most common title \"software engineer\" and its variations like so:\n",
        "\n",
        "```\n",
        "job_title_mapping = {\n",
        "    most_common_title_string: [most_common_title_embedding, [variation1, variation2, ...]]\n",
        "}\n",
        "```\n",
        "\n",
        "**Potential Improvement:** Create a `JobTitleMapping` class and restrict typing"
      ],
      "metadata": {
        "id": "cQeKfbV4o1L_"
      }
    },
    {
      "cell_type": "code",
      "source": [
        "job_title_mapping = {\n",
        "    'nlp scientist': [None, ['nlp researcher','natural language processing scientist', 'natural language processing researcher']],\n",
        "    'nlp engineer': [None, ['natural language processing engineer', 'machine learning engineer (nlp)', 'ml engineer (nlp)', 'mle (nlp)']],\n",
        "    'machine learning engineer': [None, ['mle', 'ml engineer', 'ml eng', 'machine learning eng']],\n",
        "    'software engineer': [None, ['swe', 'software eng', 'software developer', 'software dev']]\n",
        "}\n",
        "\n",
        "# Get embeddings once, ahead of time\n",
        "for most_common_title, embedding_and_variations in job_title_mapping.items():\n",
        "  most_common_title_embedding = openai.Embedding.create(input = [most_common_title], model=\"text-embedding-ada-002\")['data'][0]['embedding']\n",
        "  embedding_and_variations[0] = most_common_title_embedding"
      ],
      "metadata": {
        "id": "aav_WbLvkaHv"
      },
      "execution_count": 74,
      "outputs": []
    },
    {
      "cell_type": "code",
      "source": [
        "from types import MethodDescriptorType\n",
        "from tenacity import (\n",
        "    retry,\n",
        "    stop_after_attempt,\n",
        "    wait_random_exponential,\n",
        ")  # for exponential backoff\n",
        "\n",
        "\n",
        "\"\"\"\n",
        "Gets variations of a given title with various acronyms\n",
        " \n",
        " (i.e. \"nlp_scientist\" => [\"nlp researcher\", \"natural language processing scientist\"...]\n",
        "\"\"\"\n",
        "@retry(wait=wait_random_exponential(min=1, max=60), stop=stop_after_attempt(6))\n",
        "def get_title_variations(title):\n",
        "  # Get embedding of given title\n",
        "  title = title.strip().lower()\n",
        "  title_embedding = openai.Embedding.create(input = [title], model=\"text-embedding-ada-002\")['data'][0]['embedding']\n",
        "\n",
        "  # Check similarity to given \"most common\" job titles\n",
        "  highest_similarity_val = float('-inf')\n",
        "  highest_similarity_title = None\n",
        "  for most_common_title, (most_common_title_embedding, variations) in job_title_mapping.items():\n",
        "    current_similarity = cosine_similarity(np.array([title_embedding, most_common_title_embedding]))[1][0]\n",
        "\n",
        "    if current_similarity > highest_similarity_val:\n",
        "      highest_similarity_title = most_common_title\n",
        "      highest_similarity_val = current_similarity\n",
        "\n",
        "  # Now we have the variations of `title`\n",
        "  variations = job_title_mapping[highest_similarity_title][1]\n",
        "\n",
        "  # Add to our knowledge base: if this is a new variation, let's add it to our list\n",
        "  if title not in variations:\n",
        "    job_title_mapping[highest_similarity_title][1].append(title)\n",
        "\n",
        "  # Leave out `title` if its in variation\n",
        "  # Not concerned about time complexity given there are only so many ways to represent a single job\n",
        "  return highest_similarity_val, set([highest_similarity_title] + variations) - set([title])"
      ],
      "metadata": {
        "id": "hCK31hJSkbtn"
      },
      "execution_count": 75,
      "outputs": []
    },
    {
      "cell_type": "markdown",
      "source": [
        "### Results\n",
        "\n",
        "We can see that it returns the relevant variations _and_ will add an unseen variation (e.g. 'Senior software engineer' to the set of titles. "
      ],
      "metadata": {
        "id": "eikZi-oavSA5"
      }
    },
    {
      "cell_type": "code",
      "source": [
        "get_title_variations('mle')"
      ],
      "metadata": {
        "colab": {
          "base_uri": "https://localhost:8080/"
        },
        "id": "tvsFWqfCnLDJ",
        "outputId": "70201cf9-be25-4c19-f2dd-119d7c1b6e46"
      },
      "execution_count": 76,
      "outputs": [
        {
          "output_type": "execute_result",
          "data": {
            "text/plain": [
              "(0.8053917071349258,\n",
              " {'machine learning eng',\n",
              "  'machine learning engineer',\n",
              "  'ml eng',\n",
              "  'ml engineer'})"
            ]
          },
          "metadata": {},
          "execution_count": 76
        }
      ]
    },
    {
      "cell_type": "code",
      "source": [
        "get_title_variations('Senior software engineer')"
      ],
      "metadata": {
        "colab": {
          "base_uri": "https://localhost:8080/"
        },
        "id": "vZu5CL-tnNq2",
        "outputId": "3ecb67aa-5bbd-4669-9638-e7eab0117c68"
      },
      "execution_count": 77,
      "outputs": [
        {
          "output_type": "execute_result",
          "data": {
            "text/plain": [
              "(0.9335964545280065,\n",
              " {'software dev',\n",
              "  'software developer',\n",
              "  'software eng',\n",
              "  'software engineer',\n",
              "  'swe'})"
            ]
          },
          "metadata": {},
          "execution_count": 77
        }
      ]
    },
    {
      "cell_type": "code",
      "source": [
        "get_title_variations('sr. software engineer')"
      ],
      "metadata": {
        "colab": {
          "base_uri": "https://localhost:8080/"
        },
        "id": "y1R-MQJIvImz",
        "outputId": "093d599d-0fe1-4dc3-cc55-c0693cc239d7"
      },
      "execution_count": 78,
      "outputs": [
        {
          "output_type": "execute_result",
          "data": {
            "text/plain": [
              "(0.9205671151784326,\n",
              " {'senior software engineer',\n",
              "  'software dev',\n",
              "  'software developer',\n",
              "  'software eng',\n",
              "  'software engineer',\n",
              "  'swe'})"
            ]
          },
          "metadata": {},
          "execution_count": 78
        }
      ]
    },
    {
      "cell_type": "markdown",
      "source": [
        "\n",
        "**Limitation/Improvement Opportunity:**\n",
        "What about when we ask for a new title completely unrelated to what is stored?"
      ],
      "metadata": {
        "id": "AsO-Fa3lQC2j"
      }
    },
    {
      "cell_type": "code",
      "source": [
        "# Try one\n",
        "get_title_variations(\"sales development representative\")"
      ],
      "metadata": {
        "colab": {
          "base_uri": "https://localhost:8080/"
        },
        "id": "MHtah0BUPhNg",
        "outputId": "80187c6e-c952-468c-f1e7-3e0c86769009"
      },
      "execution_count": 79,
      "outputs": [
        {
          "output_type": "execute_result",
          "data": {
            "text/plain": [
              "(0.7910379410037526,\n",
              " {'senior software engineer',\n",
              "  'software dev',\n",
              "  'software developer',\n",
              "  'software eng',\n",
              "  'software engineer',\n",
              "  'sr. software engineer',\n",
              "  'swe'})"
            ]
          },
          "metadata": {},
          "execution_count": 79
        }
      ]
    },
    {
      "cell_type": "markdown",
      "source": [
        "Set threshold at .8? That seems a bit high. \n",
        "\n",
        "**Alternative:** We can initially enter/set the titles we care about initially. 50 or 100 job titles. A slightly tedious but robust solution. \n",
        "\n",
        "We could also grab a dataset of most common job titles from the web. If we're focused on the tech industry, we can grab the most common jobs in tech."
      ],
      "metadata": {
        "id": "azi-BgYRQ0Ee"
      }
    },
    {
      "cell_type": "code",
      "source": [],
      "metadata": {
        "id": "sINQydLnP71i"
      },
      "execution_count": null,
      "outputs": []
    }
  ]
}